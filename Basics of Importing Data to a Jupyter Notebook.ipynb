{
 "cells": [
  {
   "cell_type": "markdown",
   "metadata": {},
   "source": [
    "![Banner](Callysto_Notebook-Banner_Top_06.06.18.jpg)"
   ]
  },
  {
   "cell_type": "markdown",
   "metadata": {},
   "source": [
    "## The Basics of Importing Data to a Jupyter Notebook\n",
    "\n",
    "This notebook will walk you through the basic process of how to import data from .txt files, .xls (or .xlsx) files, and from Google Sheets into a Jupyter notebook."
   ]
  },
  {
   "cell_type": "markdown",
   "metadata": {},
   "source": [
    "### Importing a .txt file:"
   ]
  },
  {
   "cell_type": "markdown",
   "metadata": {},
   "source": [
    "First, we need to import pandas, which is a library that contains many useful tools for working with data. You only need to include this line once, before the rest of your code."
   ]
  },
  {
   "cell_type": "code",
   "execution_count": 17,
   "metadata": {},
   "outputs": [],
   "source": [
    "import pandas as pd"
   ]
  },
  {
   "cell_type": "markdown",
   "metadata": {},
   "source": [
    "Next, use the line below to read the file and assign it the variable name \"mydata1\". This name can be anything you choose, and can be used to refer to the data from now on.\n",
    "\n",
    "In place of \"Sample Data.txt\" you will need to put the full file path of the text file you want to use, with double slashes. (For example: \"C:\\\\\\Users\\\\\\user\\\\\\Desktop\\\\\\Sample Data.txt\") In this example I don't need to include the full file path because the data file is in the same directory this notebook is working in.\n",
    "\n",
    "This code assumes the data in your text file is separated by commas. If your data is tab-delimited instead, you will need to replace sep = \",\" with sep = \"\\t\""
   ]
  },
  {
   "cell_type": "code",
   "execution_count": 18,
   "metadata": {},
   "outputs": [],
   "source": [
    "mydata1 = pd.read_csv(\"Sample Data.txt\", sep = \",\")"
   ]
  },
  {
   "cell_type": "markdown",
   "metadata": {},
   "source": [
    "Now you can simply use the variable name to display your data:"
   ]
  },
  {
   "cell_type": "code",
   "execution_count": null,
   "metadata": {},
   "outputs": [],
   "source": [
    "mydata1"
   ]
  },
  {
   "cell_type": "markdown",
   "metadata": {},
   "source": [
    "Now that our data is loaded into the notebook, we can perform simple calculations.\n",
    "\n",
    "For example, if we wanted to take the average of the values in the second column we could use the code below. This code finds the column labelled \"Avg Temp (in C)\" in the data called mydata, and uses the function mean() to take the average."
   ]
  },
  {
   "cell_type": "code",
   "execution_count": 2,
   "metadata": {},
   "outputs": [
    {
     "data": {
      "text/plain": [
       "25.4"
      ]
     },
     "execution_count": 2,
     "metadata": {},
     "output_type": "execute_result"
    }
   ],
   "source": [
    "mydata1[\"Avg Temp (in C)\"].mean()"
   ]
  },
  {
   "cell_type": "markdown",
   "metadata": {},
   "source": [
    "You can refer to the pandas documentation at https://pandas.pydata.org/pandas-docs/stable/tutorials.html for further information on what you can do with the pandas library."
   ]
  },
  {
   "cell_type": "markdown",
   "metadata": {},
   "source": [
    "### Importing an Excel spreadsheet:\n",
    "\n",
    "Importing an Excel spreadsheet is very similar to importing a text file. \n",
    "\n",
    "The first line reads the file and assigns it the variable name \"mydata2\".\n",
    "In place of \"Sample Data.xlsx\" you will need to put the full file path of the text file you want to use, with double slashes. For example: \"C:\\\\\\Users\\\\\\user\\\\\\Desktop\\\\\\Sample Data.xlsx\""
   ]
  },
  {
   "cell_type": "code",
   "execution_count": 4,
   "metadata": {},
   "outputs": [
    {
     "data": {
      "text/html": [
       "<div>\n",
       "<style scoped>\n",
       "    .dataframe tbody tr th:only-of-type {\n",
       "        vertical-align: middle;\n",
       "    }\n",
       "\n",
       "    .dataframe tbody tr th {\n",
       "        vertical-align: top;\n",
       "    }\n",
       "\n",
       "    .dataframe thead th {\n",
       "        text-align: right;\n",
       "    }\n",
       "</style>\n",
       "<table border=\"1\" class=\"dataframe\">\n",
       "  <thead>\n",
       "    <tr style=\"text-align: right;\">\n",
       "      <th></th>\n",
       "      <th>Year</th>\n",
       "      <th>Avg Temp (in C)</th>\n",
       "    </tr>\n",
       "  </thead>\n",
       "  <tbody>\n",
       "    <tr>\n",
       "      <th>0</th>\n",
       "      <td>2014</td>\n",
       "      <td>24.2</td>\n",
       "    </tr>\n",
       "    <tr>\n",
       "      <th>1</th>\n",
       "      <td>2015</td>\n",
       "      <td>25.3</td>\n",
       "    </tr>\n",
       "    <tr>\n",
       "      <th>2</th>\n",
       "      <td>2016</td>\n",
       "      <td>25.6</td>\n",
       "    </tr>\n",
       "    <tr>\n",
       "      <th>3</th>\n",
       "      <td>2017</td>\n",
       "      <td>25.8</td>\n",
       "    </tr>\n",
       "    <tr>\n",
       "      <th>4</th>\n",
       "      <td>2018</td>\n",
       "      <td>26.1</td>\n",
       "    </tr>\n",
       "  </tbody>\n",
       "</table>\n",
       "</div>"
      ],
      "text/plain": [
       "   Year  Avg Temp (in C)\n",
       "0  2014             24.2\n",
       "1  2015             25.3\n",
       "2  2016             25.6\n",
       "3  2017             25.8\n",
       "4  2018             26.1"
      ]
     },
     "execution_count": 4,
     "metadata": {},
     "output_type": "execute_result"
    }
   ],
   "source": [
    "mydata2 = pd.read_excel(\"Sample Data.xlsx\")\n",
    "\n",
    "#Displaying the data:\n",
    "mydata2"
   ]
  },
  {
   "cell_type": "markdown",
   "metadata": {},
   "source": [
    "Now that the data is loaded, we can perform calculations using it just like before. This time, let's find the maximum value in column 2."
   ]
  },
  {
   "cell_type": "code",
   "execution_count": 6,
   "metadata": {},
   "outputs": [
    {
     "data": {
      "text/plain": [
       "26.1"
      ]
     },
     "execution_count": 6,
     "metadata": {},
     "output_type": "execute_result"
    }
   ],
   "source": [
    "mydata2[\"Avg Temp (in C)\"].max()"
   ]
  },
  {
   "cell_type": "markdown",
   "metadata": {},
   "source": [
    "### Importing a spreadsheet from Google Sheets:\n",
    "\n",
    "Using data directly from a Google Sheets spreadsheet is more complicated than a .txt file or an .xls spreadsheet, since Google requires you to go through an authentication process and use the Google API. As a shortcut, you can simply download the spreadsheet as an .xls file and follow the instructions for that file type above.\n",
    "\n",
    "The benefit of using the data directly is that if you make changes to your spreadsheet online, your notebook will use the updated data the next time you run it.\n",
    "\n",
    "#### Get Google API credentials:\n",
    "\n",
    "Not only will you need to complete this one-time setup for your own notebooks, but you will need it to run the example code in this section as well.\n",
    "\n",
    "First, visit the Google console at https://console.developers.google.com/cloud-resource-manager. You will need to be logged in to your Google account.\n",
    "\n",
    "- Choose Create Project on the top.\n",
    "- Enter a project name and click Create.\n",
    "- Refresh the page and click on your project.\n",
    "- Using the menu in the top left corner, select API and Services > Dashboard\n",
    "- Click the Google Drive API, and then click Enable.\n",
    "- Click Create credentials.\n",
    "- In the drop down box, select Google Drive API.\n",
    "- In the second drop down box that appeared under the first, select Other UI.\n",
    "- Check the box for User data.\n",
    "- Click the blue button that says \"What credentials do I need?\"\n",
    "- Enter a name and click Create.\n",
    "- Select your email address, enter a product name, and click Continue.\n",
    "- Click Download to get your client_id.json file.\n",
    "\n",
    "- Go back to the Credentials page and under Create credentials, select Service account key.\n",
    "- Select New service account, set Service account name to Google Sheets, set the role to Service Account User, leave Key type as JSON, click Create. This will have downloaded a second .json file (for example, Sheets-c9548769997a.json).\n",
    "\n",
    "#### Importing data:\n",
    "\n",
    "In the block of code below, you'll need to replace the file path on the credentials line with the file path to your Sheets JSON file. The demo will not function otherwise.\n",
    "\n",
    "If you're using this code in another notebook, you will also need to replace the spreadsheet key with the string of characters from the url of the Google spreadsheet you wish to access (it's already set up in this demo). Finally, on the worksheet should be the name of the sheet you want to access. In this case it's \"Sheet1\", which is the default."
   ]
  },
  {
   "cell_type": "code",
   "execution_count": 16,
   "metadata": {},
   "outputs": [
    {
     "data": {
      "text/html": [
       "<div>\n",
       "<style scoped>\n",
       "    .dataframe tbody tr th:only-of-type {\n",
       "        vertical-align: middle;\n",
       "    }\n",
       "\n",
       "    .dataframe tbody tr th {\n",
       "        vertical-align: top;\n",
       "    }\n",
       "\n",
       "    .dataframe thead th {\n",
       "        text-align: right;\n",
       "    }\n",
       "</style>\n",
       "<table border=\"1\" class=\"dataframe\">\n",
       "  <thead>\n",
       "    <tr style=\"text-align: right;\">\n",
       "      <th></th>\n",
       "      <th>Year</th>\n",
       "      <th>Avg Temp (in C)</th>\n",
       "    </tr>\n",
       "  </thead>\n",
       "  <tbody>\n",
       "    <tr>\n",
       "      <th>0</th>\n",
       "      <td>2014</td>\n",
       "      <td>24.2</td>\n",
       "    </tr>\n",
       "    <tr>\n",
       "      <th>1</th>\n",
       "      <td>2015</td>\n",
       "      <td>25.3</td>\n",
       "    </tr>\n",
       "    <tr>\n",
       "      <th>2</th>\n",
       "      <td>2016</td>\n",
       "      <td>25.6</td>\n",
       "    </tr>\n",
       "    <tr>\n",
       "      <th>3</th>\n",
       "      <td>2017</td>\n",
       "      <td>25.8</td>\n",
       "    </tr>\n",
       "    <tr>\n",
       "      <th>4</th>\n",
       "      <td>2018</td>\n",
       "      <td>26.1</td>\n",
       "    </tr>\n",
       "  </tbody>\n",
       "</table>\n",
       "</div>"
      ],
      "text/plain": [
       "   Year Avg Temp (in C)\n",
       "0  2014            24.2\n",
       "1  2015            25.3\n",
       "2  2016            25.6\n",
       "3  2017            25.8\n",
       "4  2018            26.1"
      ]
     },
     "execution_count": 16,
     "metadata": {},
     "output_type": "execute_result"
    }
   ],
   "source": [
    "import pandas as pd\n",
    "import gspread\n",
    "from oauth2client.service_account import ServiceAccountCredentials\n",
    "\n",
    "scope = ['https://spreadsheets.google.com/feeds']\n",
    "\n",
    "#Replace file path here:\n",
    "#You need to have the path to your own json file for this demo to work!\n",
    "credentials = ServiceAccountCredentials.from_json_keyfile_name(\"C:\\\\Users\\\\ariel\\\\Downloads\\\\Sheets-c9548769997a.json\", scope)\n",
    "gc = gspread.authorize(credentials)\n",
    "\n",
    "#Replace this string:\n",
    "spreadsheet_key = '15QGN7iYF-khHSx4wJ3XUKREmWMvfLLpMlopGruUDsrU'\n",
    "book = gc.open_by_key(spreadsheet_key)\n",
    "\n",
    "#Replace the sheet name:\n",
    "worksheet = book.worksheet(\"Sheet1\")\n",
    "table = worksheet.get_all_values()\n",
    "\n",
    "#Convert table data into a dataframe\n",
    "mydata3 = pd.DataFrame(table[1:], columns=table[0])\n",
    "\n",
    "#The data is saved under this variable:\n",
    "mydata3"
   ]
  },
  {
   "cell_type": "markdown",
   "metadata": {},
   "source": [
    "Now everything is set up so you can work with the Google sheets version of the sample data exactly the same way as text or Excel files!"
   ]
  },
  {
   "cell_type": "markdown",
   "metadata": {},
   "source": [
    "### References\n",
    "\n",
    "https://pandas.pydata.org/pandas-docs/stable/\n",
    "\n",
    "https://socraticowl.com/post/integrate-google-sheets-and-jupyter-notebooks/?utm_source=reddit.com&utm_medium=social&utm_content=2018-03-01"
   ]
  },
  {
   "cell_type": "markdown",
   "metadata": {},
   "source": [
    "![Banner](Callysto_Notebook-Banners_Bottom_06.06.18.jpg)"
   ]
  }
 ],
 "metadata": {
  "kernelspec": {
   "display_name": "Python 3",
   "language": "python",
   "name": "python3"
  },
  "language_info": {
   "codemirror_mode": {
    "name": "ipython",
    "version": 3
   },
   "file_extension": ".py",
   "mimetype": "text/x-python",
   "name": "python",
   "nbconvert_exporter": "python",
   "pygments_lexer": "ipython3",
   "version": "3.7.1"
  }
 },
 "nbformat": 4,
 "nbformat_minor": 2
}
